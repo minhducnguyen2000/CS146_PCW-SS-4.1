{
 "cells": [
  {
   "cell_type": "code",
   "execution_count": 1,
   "metadata": {},
   "outputs": [],
   "source": [
    "import math\n",
    "import numpy as np\n",
    "import scipy.stats as sts\n",
    "import matplotlib.pyplot as plt\n",
    "from scipy.optimize import minimize"
   ]
  },
  {
   "cell_type": "markdown",
   "metadata": {},
   "source": [
    "### Information Provided"
   ]
  },
  {
   "cell_type": "code",
   "execution_count": 2,
   "metadata": {},
   "outputs": [],
   "source": [
    "data_mean_mean = 2.3\n",
    "data_mean_std = 0.5\n",
    "data_variance_mean = 2.75\n",
    "data_variance_std = 1"
   ]
  },
  {
   "cell_type": "markdown",
   "metadata": {},
   "source": [
    "### Using Optimization Method"
   ]
  },
  {
   "cell_type": "code",
   "execution_count": 4,
   "metadata": {},
   "outputs": [],
   "source": [
    "def nig_function(in_put):\n",
    "    (mu,nu,alpha,beta) = in_put\n",
    "    #formulas from https://en.wikipedia.org/wiki/Normal-inverse-gamma_distribution\n",
    "    mean_mean = mu\n",
    "    mean_variance = beta/(alpha-1)\n",
    "    variance_mean = beta/(alpha-1)/nu\n",
    "    variance_variance = beta**2/(alpha-1)**2/(alpha-2)\n",
    "    \n",
    "    return (mean_mean - data_mean_mean)**2 + (mean_variance - data_mean_std**2)**2 +\\\n",
    "            (variance_mean - data_variance_mean)**2 + (variance_variance - data_variance_std**2)**2\n",
    "\n",
    "\n"
   ]
  },
  {
   "cell_type": "code",
   "execution_count": 7,
   "metadata": {},
   "outputs": [
    {
     "name": "stdout",
     "output_type": "stream",
     "text": [
      "started at: (μ,ν,α,β)=(0.00, 1.00, 5.00, 5.00)\n",
      "\n",
      "optimization successful after 31 iterations,\n",
      "ending function value is 2.67e-11\n",
      "\n",
      "ended at:   (μ,ν,α,β)=(2.30, 0.09, 2.06, 0.27)\n"
     ]
    }
   ],
   "source": [
    "#initial values\n",
    "## alpha needs to be >2 for the equations to work\n",
    "x_initial = (0,1,5,5)\n",
    "\n",
    "# optimization\n",
    "result = minimize(nig_function, x_initial)\n",
    "x_final = result.x\n",
    "\n",
    "print('started at: (μ,ν,α,β)=(%.2f, %.2f, %.2f, %.2f)'\n",
    "      %(x_initial[0],x_initial[1],x_initial[2],x_initial[3]))\n",
    "print('\\noptimization %s after %d iterations,\\nending function value is %.2e\\n'\n",
    "      %('successful' if result.success else 'failed',result.nit,\n",
    "       result.fun))\n",
    "print('ended at:   (μ,ν,α,β)=(%.2f, %.2f, %.2f, %.2f)'\n",
    "     %(x_final[0],x_final[1],x_final[2],x_final[3]))\n",
    "\n"
   ]
  }
 ],
 "metadata": {
  "kernelspec": {
   "display_name": "Python 3",
   "language": "python",
   "name": "python3"
  },
  "language_info": {
   "codemirror_mode": {
    "name": "ipython",
    "version": 3
   },
   "file_extension": ".py",
   "mimetype": "text/x-python",
   "name": "python",
   "nbconvert_exporter": "python",
   "pygments_lexer": "ipython3",
   "version": "3.7.3"
  }
 },
 "nbformat": 4,
 "nbformat_minor": 2
}
